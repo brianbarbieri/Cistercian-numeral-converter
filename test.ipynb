{
 "metadata": {
  "language_info": {
   "codemirror_mode": {
    "name": "ipython",
    "version": 3
   },
   "file_extension": ".py",
   "mimetype": "text/x-python",
   "name": "python",
   "nbconvert_exporter": "python",
   "pygments_lexer": "ipython3",
   "version": "3.7.4-final"
  },
  "orig_nbformat": 2,
  "kernelspec": {
   "name": "python3",
   "display_name": "Python 3"
  }
 },
 "nbformat": 4,
 "nbformat_minor": 2,
 "cells": [
  {
   "cell_type": "code",
   "execution_count": 2,
   "metadata": {},
   "outputs": [],
   "source": [
    "import numpy as np\n",
    "import matplotlib.pyplot as plt"
   ]
  },
  {
   "cell_type": "code",
   "execution_count": 3,
   "metadata": {},
   "outputs": [],
   "source": []
  },
  {
   "cell_type": "code",
   "execution_count": 5,
   "metadata": {},
   "outputs": [
    {
     "output_type": "execute_result",
     "data": {
      "text/plain": [
       "(40,)"
      ]
     },
     "metadata": {},
     "execution_count": 5
    }
   ],
   "source": [
    "number_board[0].shape"
   ]
  },
  {
   "cell_type": "code",
   "execution_count": 71,
   "metadata": {},
   "outputs": [],
   "source": [
    "class Notations:\n",
    "\n",
    "\n",
    "    ONE = np.zeros(shape=(80,40))\n",
    "    ONE[10:70, 18:22] = 255\n",
    "\n",
    "\n",
    "    TWO = np.zeros(shape=(10,10))\n",
    "    TWO[4:6] = 255\n",
    "\n",
    "\n",
    "    THREE = np.zeros(shape=(10,10))\n",
    "    _mask = np.abs(np.add.outer(np.arange(10), -np.arange(10))) < 2\n",
    "    THREE[_mask] = 255\n",
    "\n",
    "    FOUR = np.rot90(THREE)\n",
    "\n",
    "    _line = np.zeros(shape=(10,10))\n",
    "    _line[:2] = 255\n",
    "    FIVE = FOUR + _line\n",
    "\n",
    "    SIX = np.zeros(shape=(10,10))\n",
    "    SIX[:,8:] = 255\n",
    "\n",
    "    SEVEN = SIX + _line\n",
    "\n",
    "    _bottom_line = np.zeros(shape=(10,10))\n",
    "    _bottom_line[8:] = 255\n",
    "    EIGHT = SIX + _bottom_line\n",
    "\n",
    "    NINE = EIGHT + _line\n",
    "\n",
    "class Number:\n",
    "\n",
    "    def __init__(self):\n",
    "        self.number = Notations.ONE\n",
    "\n",
    "    def show_number(self):\n",
    "        plt.imshow(self.number)\n",
    "        plt.show()\n",
    "\n",
    "    def set_number(self, n):\n",
    "        pass\n",
    "\n",
    "\n",
    "    def save_number(self):\n",
    "        pass\n",
    "\n",
    "# n = Number()\n",
    "# n.set_number(1)\n",
    "# n.show_number()"
   ]
  },
  {
   "cell_type": "code",
   "execution_count": 73,
   "metadata": {},
   "outputs": [
    {
     "output_type": "execute_result",
     "data": {
      "text/plain": [
       "array([[255., 255., 255., 255., 255., 255., 255., 255., 510., 510.],\n",
       "       [255., 255., 255., 255., 255., 255., 255., 255., 510., 510.],\n",
       "       [  0.,   0.,   0.,   0.,   0.,   0.,   0.,   0., 255., 255.],\n",
       "       [  0.,   0.,   0.,   0.,   0.,   0.,   0.,   0., 255., 255.],\n",
       "       [  0.,   0.,   0.,   0.,   0.,   0.,   0.,   0., 255., 255.],\n",
       "       [  0.,   0.,   0.,   0.,   0.,   0.,   0.,   0., 255., 255.],\n",
       "       [  0.,   0.,   0.,   0.,   0.,   0.,   0.,   0., 255., 255.],\n",
       "       [  0.,   0.,   0.,   0.,   0.,   0.,   0.,   0., 255., 255.],\n",
       "       [255., 255., 255., 255., 255., 255., 255., 255., 510., 510.],\n",
       "       [255., 255., 255., 255., 255., 255., 255., 255., 510., 510.]])"
      ]
     },
     "metadata": {},
     "execution_count": 73
    }
   ],
   "source": [
    "Notations.NINE"
   ]
  },
  {
   "cell_type": "code",
   "execution_count": 61,
   "metadata": {},
   "outputs": [
    {
     "output_type": "execute_result",
     "data": {
      "text/plain": [
       "array([[  0.,   0.,   0.,   0.,   0.,   0.,   0.,   0., 255., 255.],\n",
       "       [  0.,   0.,   0.,   0.,   0.,   0.,   0., 255., 255., 255.],\n",
       "       [  0.,   0.,   0.,   0.,   0.,   0., 255., 255., 255.,   0.],\n",
       "       [  0.,   0.,   0.,   0.,   0., 255., 255., 255.,   0.,   0.],\n",
       "       [  0.,   0.,   0.,   0., 255., 255., 255.,   0.,   0.,   0.],\n",
       "       [  0.,   0.,   0., 255., 255., 255.,   0.,   0.,   0.,   0.],\n",
       "       [  0.,   0., 255., 255., 255.,   0.,   0.,   0.,   0.,   0.],\n",
       "       [  0., 255., 255., 255.,   0.,   0.,   0.,   0.,   0.,   0.],\n",
       "       [255., 255., 255.,   0.,   0.,   0.,   0.,   0.,   0.,   0.],\n",
       "       [255., 255.,   0.,   0.,   0.,   0.,   0.,   0.,   0.,   0.]])"
      ]
     },
     "metadata": {},
     "execution_count": 61
    }
   ],
   "source": [
    "Notations.FOUR"
   ]
  },
  {
   "cell_type": "code",
   "execution_count": 55,
   "metadata": {},
   "outputs": [
    {
     "output_type": "execute_result",
     "data": {
      "text/plain": [
       "array([[  0.,   0.,   0.,   0.,   0.,   0.,   0.,   0.,   0.,   0.],\n",
       "       [  0.,   0.,   0.,   0.,   0.,   0.,   0.,   0.,   0.,   0.],\n",
       "       [  0.,   0.,   0.,   0.,   0.,   0.,   0.,   0.,   0.,   0.],\n",
       "       [  0.,   0.,   0.,   0.,   0.,   0.,   0.,   0.,   0.,   0.],\n",
       "       [255., 255., 255., 255., 255., 255., 255., 255., 255., 255.],\n",
       "       [255., 255., 255., 255., 255., 255., 255., 255., 255., 255.],\n",
       "       [  0.,   0.,   0.,   0.,   0.,   0.,   0.,   0.,   0.,   0.],\n",
       "       [  0.,   0.,   0.,   0.,   0.,   0.,   0.,   0.,   0.,   0.],\n",
       "       [  0.,   0.,   0.,   0.,   0.,   0.,   0.,   0.,   0.,   0.],\n",
       "       [  0.,   0.,   0.,   0.,   0.,   0.,   0.,   0.,   0.,   0.]])"
      ]
     },
     "metadata": {},
     "execution_count": 55
    }
   ],
   "source": [
    "Notations.TWO"
   ]
  },
  {
   "cell_type": "code",
   "execution_count": null,
   "metadata": {},
   "outputs": [],
   "source": []
  }
 ]
}